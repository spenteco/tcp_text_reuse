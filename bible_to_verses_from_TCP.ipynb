{
 "cells": [
  {
   "cell_type": "markdown",
   "metadata": {},
   "source": [
    "## Create Bible Pickles from EEBO-TCP Bibles . . . \n",
    "\n",
    " . . . but not from all of them because, even though the Bibles are all from the same place, and they're all TEI, they don't mark up verses in the same way.  Or, in some cases, at all.\n",
    " \n",
    "So, this notebook really only processes A10675 (Geneva) and A97378 (KJV).  The other Bibles I wanted to use (Coverdale, the Bishop's Bible, the Great Bible) aren't marked up in a way which makes them useful for verse-by-verse matching."
   ]
  },
  {
   "cell_type": "code",
   "execution_count": 1,
   "metadata": {},
   "outputs": [],
   "source": [
    "from lxml import etree\n",
    "from matching_functions import *\n",
    "\n",
    "SHINGLE_LENGTH = 3"
   ]
  },
  {
   "cell_type": "markdown",
   "metadata": {},
   "source": [
    "### Any oddities in the XML?\n",
    "\n",
    "At one point, I wasn't finding any quotations of the Psalms in EEBO-TCP.  Which was laughable.\n",
    "\n",
    "It turns out that Psalms does not have chapters (i.e., it doesn't have &lt;div type=\"chapter\"&gt;); instead, it has Psalms (&lt;div type=\"Psalm\"&gt;).  At least in the two files I'm processing.\n",
    "\n",
    "Here, I'm just checking what type values are attached to div's."
   ]
  },
  {
   "cell_type": "code",
   "execution_count": 2,
   "metadata": {},
   "outputs": [
    {
     "name": "stdout",
     "output_type": "stream",
     "text": [
      "chapter 2406\n",
      "Psalm 300\n",
      "book 155\n",
      "section 22\n",
      "part 22\n",
      "title_page 3\n",
      "division 3\n",
      "chronology 2\n",
      "table 2\n",
      "endnotes 2\n",
      "prologue 2\n",
      "addendum_to_the_book_of_Daniel 2\n",
      "table_of_contents 1\n",
      "letter 1\n",
      "to_the_reader 1\n",
      "Song_of_the_n3_children 1\n",
      "Bel_and_the_dragon 1\n",
      "map 1\n",
      "description 1\n",
      "key 1\n",
      "engraved_title_page 1\n",
      "dedication 1\n",
      "summary_of_contents 1\n",
      "Old_Testament 1\n",
      "Apocrypha 1\n",
      "addenda_to_the_book_of_Esther 1\n",
      "New_Testament 1\n"
     ]
    }
   ],
   "source": [
    "from collections import defaultdict, Counter\n",
    "\n",
    "div_types = defaultdict(int)\n",
    "\n",
    "def count_div_types(TCP_ID):\n",
    "\n",
    "    tree = etree.parse('xml_bible/' + TCP_ID + '.xml')\n",
    "\n",
    "    for div in tree.xpath('//tei:div', \n",
    "                           namespaces={'tei': 'http://www.tei-c.org/ns/1.0'}):\n",
    "\n",
    "        if div.get('type') != None:\n",
    "             div_types[div.get('type')] += 1\n",
    "    \n",
    "for TCP_ID in ['A10675', 'A97378',]:\n",
    "    count_div_types(TCP_ID)\n",
    "    \n",
    "for w in Counter(div_types).most_common():\n",
    "    print(w[0], w[1])"
   ]
  },
  {
   "cell_type": "markdown",
   "metadata": {},
   "source": [
    "### A function to process EEBO-TCP Bibles . . . \n",
    "\n",
    " . . . two, at least.  Note the exceptions: if there's no chapter number, it must be chapter 1.  Ditto for verses, which I assume (and for the most part, are) each inside its own p tag."
   ]
  },
  {
   "cell_type": "code",
   "execution_count": 3,
   "metadata": {},
   "outputs": [],
   "source": [
    "def bible_to_verses(TCP_ID):\n",
    "    \n",
    "    print(TCP_ID)\n",
    "\n",
    "    tree = etree.parse('xml_bible/' + TCP_ID + '.xml')\n",
    "\n",
    "    books = tree.xpath('//tei:div[@type=\"book\"]', \n",
    "                       namespaces={'tei': 'http://www.tei-c.org/ns/1.0'})\n",
    "\n",
    "    results = []\n",
    "\n",
    "    for b in books:\n",
    "\n",
    "        book_title = b.get('n')\n",
    "\n",
    "        chapters = b.xpath('descendant::tei:div[@type=\"chapter\"]|descendant::tei:div[@type=\"Psalm\"]', \n",
    "                           namespaces={'tei': 'http://www.tei-c.org/ns/1.0'})\n",
    "\n",
    "        for c in chapters:\n",
    "\n",
    "            chapter_n = c.get('n')\n",
    "            if chapter_n == None:\n",
    "                chapter_n = '1'\n",
    "\n",
    "            verses = c.xpath('descendant::tei:p', \n",
    "                           namespaces={'tei': 'http://www.tei-c.org/ns/1.0'})\n",
    "\n",
    "            for v in verses:\n",
    "                \n",
    "                if 'argument' in v.getparent().tag:\n",
    "                    continue\n",
    "                \n",
    "                verse_n = v.get('n')\n",
    "                if verse_n == None:\n",
    "                    verse_n = '1'\n",
    "\n",
    "                tokens, lemmas = get_tokens_for_iterator(v)\n",
    "                non_space_lemmas, offsets = get_non_space_lemmas_and_offsets(lemmas)\n",
    "                shingles = shingle_tokens(non_space_lemmas, SHINGLE_LENGTH)\n",
    "\n",
    "                reference = book_title + '.' + chapter_n + '.' + verse_n\n",
    "\n",
    "                results.append({'reference': reference, \n",
    "                                'tokens': tokens, \n",
    "                                'lemmas': lemmas,\n",
    "                                'non_space_lemmas': non_space_lemmas, \n",
    "                                'offsets': offsets,\n",
    "                                'shingles': shingles})\n",
    "\n",
    "    print(len(results))\n",
    "\n",
    "    f = open('bible_pickles/' + TCP_ID + '.pickle', 'wb')\n",
    "    pickle.dump(results, f)\n",
    "    f.close()"
   ]
  },
  {
   "cell_type": "markdown",
   "metadata": {},
   "source": [
    "### Actually process files\n",
    "\n",
    "The process prints out the TCP ID for what ever it's processing, then prints out the number of verses it found.\n",
    "\n",
    "Which means that Geneva (A10675) has more verses (36,717) than the KJV (A97378, 36,555 verses).  Both are reasonable numbers.  I'm not unduly alarmed by the difference, since I didn't have to look far for legitimate reasons for at least 1 of those differences . . . "
   ]
  },
  {
   "cell_type": "code",
   "execution_count": 4,
   "metadata": {},
   "outputs": [
    {
     "name": "stdout",
     "output_type": "stream",
     "text": [
      "A10675\n",
      "36717\n",
      "A97378\n",
      "36555\n"
     ]
    }
   ],
   "source": [
    "for TCP_ID in ['A10675', 'A97378',]:\n",
    "    bible_to_verses(TCP_ID)"
   ]
  },
  {
   "cell_type": "code",
   "execution_count": null,
   "metadata": {},
   "outputs": [],
   "source": []
  }
 ],
 "metadata": {
  "kernelspec": {
   "display_name": "Python 3",
   "language": "python",
   "name": "python3"
  },
  "language_info": {
   "codemirror_mode": {
    "name": "ipython",
    "version": 3
   },
   "file_extension": ".py",
   "mimetype": "text/x-python",
   "name": "python",
   "nbconvert_exporter": "python",
   "pygments_lexer": "ipython3",
   "version": "3.6.5"
  }
 },
 "nbformat": 4,
 "nbformat_minor": 2
}
