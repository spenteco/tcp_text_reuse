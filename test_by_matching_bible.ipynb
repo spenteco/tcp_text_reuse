{
 "cells": [
  {
   "cell_type": "code",
   "execution_count": 1,
   "metadata": {},
   "outputs": [],
   "source": [
    "from matching_functions import *\n",
    "\n",
    "BIBLE_SHINGLE_FOLDER = '/home/spenteco/text_reuse.HOME/bible_pickles/'\n",
    "EEBO_SHINGLE_FOLDER = '/home/spenteco/0/eebo_shingled/'\n",
    "METADATA_FILE = 'metadata/EEBO_metadata.tsv'\n",
    "OUTPUT_FOLDER = 'text_reuse_html_outputs/'\n",
    "\n",
    "metadata = load_metadata(METADATA_FILE)"
   ]
  },
  {
   "cell_type": "code",
   "execution_count": 2,
   "metadata": {},
   "outputs": [
    {
     "name": "stdout",
     "output_type": "stream",
     "text": [
      "31102\n",
      "31102\n"
     ]
    }
   ],
   "source": [
    "all_verses = {\n",
    "    'KJV': [],\n",
    "    'Geneva': []\n",
    "}\n",
    "\n",
    "all_verses['KJV'] = load_pickle_file(BIBLE_SHINGLE_FOLDER + 'KJV_OTA.pickle')\n",
    "\n",
    "for p in sorted(glob.glob(BIBLE_SHINGLE_FOLDER + 'geneva/*.pickle')):\n",
    "    all_verses['Geneva'] += load_pickle_file(p)\n",
    "    \n",
    "print(len(all_verses['KJV']))\n",
    "print(len(all_verses['Geneva']))"
   ]
  },
  {
   "cell_type": "code",
   "execution_count": 3,
   "metadata": {},
   "outputs": [
    {
     "name": "stdout",
     "output_type": "stream",
     "text": [
      "A97378 {'year': '1668', 'author': ' ', 'title': 'The Holy Bible containing the Old Testament and the New / newly translated out of the original tongues and with the former translations diligently compared and revised by His Majesties speciall command ; appointed to be read in churches.|Bible. English. Authorized. 1668.'}\n",
      "\n",
      "A10675 {'year': '1562', 'author': 'Whittingham, William, d. 1579.|Gilby, Anthony, ca. 1510-1585.|Sampson, Thomas, 1517?-1589.', 'title': 'The Bible and Holy Scriptures conteyned in the Olde and Newe Testament. Translated according to the Ebrue and Greke, and conferred with the best translations in diuers languges. VVith moste profitable annotations vpon all the hard places, and other things of great importance as may appeare in the epistle to the reader|Bible. English. Geneva.'}\n",
      "\n",
      "Loaded!\n"
     ]
    }
   ],
   "source": [
    "print('A97378', metadata['A97378'])**bible_to_verses_from_TCP.ipynb**\n",
    "print()\n",
    "print('A10675', metadata['A10675'])\n",
    "print()\n",
    "\n",
    "tcp_kjv = load_pickle_file(EEBO_SHINGLE_FOLDER + 'A97378.pickle')\n",
    "tcp_geneva = load_pickle_file(EEBO_SHINGLE_FOLDER + 'A10675.pickle')\n",
    "\n",
    "print('Loaded!')"
   ]
  },
  {
   "cell_type": "code",
   "execution_count": 4,
   "metadata": {},
   "outputs": [
    {
     "name": "stdout",
     "output_type": "stream",
     "text": [
      "KJV_KJV done!\n",
      "Geneva_Geneva done!\n",
      "Geneva_KJV done!\n",
      "KJV_Geneva done!\n"
     ]
    }
   ],
   "source": [
    "from mako.template import Template\n",
    "\n",
    "def make_matching_bible(my_bible, tcp_bible, output_label):\n",
    "    \n",
    "    t = Template(filename='matching_bible_template.html')\n",
    "    t_counts = Template(filename='matching_bible_template_counts.html')\n",
    "    \n",
    "    output_results = []\n",
    "    exception_results = []\n",
    "    exception_counts = []\n",
    "    \n",
    "    for v in my_bible:\n",
    "\n",
    "        MAX_GAP_ALLOWED = 5\n",
    "        MIN_MATCH_LENGTH = int(len(v['non_space_lemmas']) * 0.75)\n",
    "        \n",
    "        results = match_two_files(v, \n",
    "                                    tcp_bible,\n",
    "                                    MAX_GAP_ALLOWED, MIN_MATCH_LENGTH)\n",
    "        \n",
    "        if len(results) == 0:\n",
    "            output_results.append([v['reference'], ''.join(v['tokens']), '', ' line_above'])\n",
    "            exception_results.append([v['reference'], ''.join(v['tokens']), '', ' line_above'])\n",
    "            exception_counts.append([v['reference'], 0])\n",
    "        else:\n",
    "            \n",
    "            if len(results) != 1:\n",
    "                exception_counts.append([v['reference'], len(results)])\n",
    "\n",
    "            for rn, r in enumerate(results):\n",
    "                if rn == 0:\n",
    "                    output_results.append([v['reference'], ''.join(v['tokens']), r[1], ' line_above'])\n",
    "                    if len(results) > 1:\n",
    "                        exception_results.append([v['reference'], ''.join(v['tokens']), r[1], ' line_above'])\n",
    "                else:\n",
    "                    output_results.append(['', '', r[1], ''])\n",
    "                    if len(results) > 1:\n",
    "                        exception_results.append(['', '', r[1], ''])\n",
    "                    \n",
    "    \n",
    "    f = open(OUTPUT_FOLDER + output_label + '.matching_bible.html', 'w', encoding='utf-8')\n",
    "    f.write(t.render(output_label=output_label, output_results=output_results))\n",
    "    f.close()\n",
    "    \n",
    "    f = open(OUTPUT_FOLDER + output_label + '.EXCEPTIONS.matching_bible.html', 'w', encoding='utf-8')\n",
    "    f.write(t.render(output_label='EXCEPTIONS.' + output_label, output_results=exception_results))\n",
    "    f.close()\n",
    "    \n",
    "    f = open(OUTPUT_FOLDER + output_label + '.EXCEPTION_COUNTS.matching_bible.html', 'w', encoding='utf-8')\n",
    "    f.write(t_counts.render(output_label='EXCEPTION_COUNTS.' + output_label, output_results=exception_counts))\n",
    "    f.close()\n",
    "    \n",
    "    print(output_label, 'done!')\n",
    "    \n",
    "# -------------------------------------------------\n",
    "    \n",
    "make_matching_bible(all_verses['KJV'], tcp_kjv, 'KJV_KJV')\n",
    "make_matching_bible(all_verses['Geneva'], tcp_geneva, 'Geneva_Geneva')\n",
    "\n",
    "make_matching_bible(all_verses['Geneva'], tcp_kjv, 'Geneva_KJV')\n",
    "make_matching_bible(all_verses['KJV'], tcp_geneva, 'KJV_Geneva')"
   ]
  },
  {
   "cell_type": "code",
   "execution_count": null,
   "metadata": {},
   "outputs": [],
   "source": []
  }
 ],
 "metadata": {
  "kernelspec": {
   "display_name": "Python 3",
   "language": "python",
   "name": "python3"
  },
  "language_info": {
   "codemirror_mode": {
    "name": "ipython",
    "version": 3
   },
   "file_extension": ".py",
   "mimetype": "text/x-python",
   "name": "python",
   "nbconvert_exporter": "python",
   "pygments_lexer": "ipython3",
   "version": "3.6.5"
  }
 },
 "nbformat": 4,
 "nbformat_minor": 2
}
