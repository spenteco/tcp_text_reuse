{
 "cells": [
  {
   "cell_type": "code",
   "execution_count": 1,
   "metadata": {},
   "outputs": [],
   "source": [
    "from matching_functions import *\n",
    "\n",
    "EEBO_SHINGLE_FOLDER = '/home/spenteco/0/eebo_shingled/'\n",
    "METADATA_FILE = 'metadata/EEBO_metadata.tsv'\n",
    "OUTPUT_FOLDER = 'text_reuse_html_outputs/'\n",
    "\n",
    "metadata = load_metadata(METADATA_FILE)"
   ]
  },
  {
   "cell_type": "code",
   "execution_count": 2,
   "metadata": {},
   "outputs": [
    {
     "name": "stdout",
     "output_type": "stream",
     "text": [
      "A43441 {'year': '1648', 'author': 'Herrick, Robert, 1591-1674.|Marshall, William, fl. 1617-1650.', 'title': 'Hesperides, or, The works both humane & divine of Robert Herrick, Esq.'}\n",
      "\n",
      "A12777 {'year': '1590', 'author': 'Spenser, Edmund, 1552?-1599.', 'title': 'The faerie qveene disposed into twelue books, fashioning XII. morall vertues.'}\n",
      "\n",
      "A77689 {'year': '1658', 'author': 'Browne, Thomas, Sir, 1605-1682.', 'title': 'Hydriotaphia, urne-buriall, or, a discourse of the sepulchrall urnes lately found in Norfolk. Together with the garden of Cyrus, or the quincunciall, lozenge, or net-work plantations of the ancients, artificially, naturally, mystically considered. With sundry observations. / By Thomas Browne D. of Physick.'}\n",
      "\n",
      "A17310 {'year': '1621', 'author': 'Burton, Robert, 1577-1640.', 'title': 'The anatomy of melancholy vvhat it is. VVith all the kindes, causes, symptomes, prognostickes, and seuerall cures of it. In three maine partitions with their seuerall sections, members, and subsections. Philosophically, medicinally, historically, opened and cut vp. By Democritus Iunior. With a satyricall preface, conducing to the following discourse.'}\n",
      "\n"
     ]
    }
   ],
   "source": [
    "for k, v in metadata.items():\n",
    "    if 'Herrick' in v['author'] and v['year'] == '1648':\n",
    "        print(k, v)\n",
    "print()\n",
    "\n",
    "for k, v in metadata.items():\n",
    "    if 'Spenser' in v['author'] and v['year'] == '1590':\n",
    "        print(k, v)\n",
    "print()\n",
    "\n",
    "for k, v in metadata.items():\n",
    "    if 'Browne' in v['author'] and 'Hydriotaphia' in v['title'] and v['year'] == '1658':\n",
    "        print(k, v)\n",
    "print()\n",
    "\n",
    "for k, v in metadata.items():\n",
    "    if 'Burton, R' in v['author'] and 'melancholy' in v['title']:\n",
    "        print(k, v)\n",
    "print()"
   ]
  },
  {
   "cell_type": "code",
   "execution_count": 14,
   "metadata": {},
   "outputs": [],
   "source": [
    "import glob, time\n",
    "from mako.template import Template\n",
    "\n",
    "MAX_GAP_ALLOWED = 5\n",
    "MIN_MATCH_LENGTH = 6\n",
    "\n",
    "def find_text_reuse(from_tcp_id):\n",
    "    \n",
    "    start_time = time.time()\n",
    "    \n",
    "    t = Template(filename='matching_results_template.html')\n",
    "    \n",
    "    from_author = metadata[from_tcp_id]['author']\n",
    "    from_title = metadata[from_tcp_id]['title']\n",
    "    from_year = metadata[from_tcp_id]['year']\n",
    "    \n",
    "    from_file = load_pickle_file(EEBO_SHINGLE_FOLDER + from_tcp_id + '.pickle')\n",
    "    \n",
    "    all_results = []\n",
    "    quit_early = False\n",
    "    \n",
    "    for pn, p in enumerate(glob.glob(EEBO_SHINGLE_FOLDER + '*.pickle')):\n",
    "        \n",
    "        if quit_early == True:\n",
    "            break\n",
    "        \n",
    "        #if pn % 1000 == 0:\n",
    "        #    print('processing', pn)\n",
    "        \n",
    "        to_tcp_id = p.split('/')[-1].split('.')[0]\n",
    "        \n",
    "        if to_tcp_id == from_tcp_id:\n",
    "            continue\n",
    "        \n",
    "        try:\n",
    "    \n",
    "            to_author = metadata[to_tcp_id]['author']\n",
    "            to_title = metadata[to_tcp_id]['title']\n",
    "            to_year = metadata[to_tcp_id]['year']\n",
    "\n",
    "            to_file = load_pickle_file(EEBO_SHINGLE_FOLDER + to_tcp_id + '.pickle')\n",
    "\n",
    "            results = match_two_files(from_file, \n",
    "                                        to_file,\n",
    "                                        MAX_GAP_ALLOWED, MIN_MATCH_LENGTH)\n",
    "\n",
    "            if len(results) > 0:\n",
    "                all_results.append([[to_tcp_id, to_author, to_title, to_year], results])\n",
    "                #quit_early = True\n",
    "                \n",
    "        except KeyError:\n",
    "            print('ERROR -- metadata?', to_tcp_id)\n",
    "            \n",
    "    #print(all_results[0])\n",
    "    \n",
    "    f = open(OUTPUT_FOLDER + from_tcp_id + '.html', 'w', encoding='utf-8')\n",
    "    f.write(t.render(from_tcp_id=from_tcp_id,\n",
    "                        from_year=from_year,\n",
    "                        from_author=from_author,\n",
    "                        from_title=from_title,\n",
    "                        all_results=all_results))\n",
    "                        \n",
    "    f.close()\n",
    "    \n",
    "    stop_time = time.time()\n",
    "    \n",
    "    print(from_tcp_id, 'done!', (stop_time - start_time))"
   ]
  },
  {
   "cell_type": "code",
   "execution_count": 15,
   "metadata": {},
   "outputs": [
    {
     "name": "stdout",
     "output_type": "stream",
     "text": [
      "ERROR -- metadata? A97378_test\n",
      "ERROR -- metadata? A49690\n",
      "ERROR -- metadata? A49004\n",
      "ERROR -- metadata? A70386\n",
      "ERROR -- metadata? A40724\n",
      "ERROR -- metadata? A07753-001\n",
      "ERROR -- metadata? A01504-001\n",
      "A43441 done! 2736.2680370807648\n",
      "ERROR -- metadata? A97378_test\n",
      "ERROR -- metadata? A49690\n",
      "ERROR -- metadata? A49004\n",
      "ERROR -- metadata? A70386\n",
      "ERROR -- metadata? A40724\n",
      "ERROR -- metadata? A07753-001\n",
      "ERROR -- metadata? A01504-001\n",
      "A12777 done! 2961.65456700325\n",
      "ERROR -- metadata? A97378_test\n",
      "ERROR -- metadata? A49690\n",
      "ERROR -- metadata? A49004\n",
      "ERROR -- metadata? A70386\n",
      "ERROR -- metadata? A40724\n",
      "ERROR -- metadata? A07753-001\n",
      "ERROR -- metadata? A01504-001\n",
      "A77689 done! 2702.961324453354\n",
      "ERROR -- metadata? A97378_test\n",
      "ERROR -- metadata? A49690\n",
      "ERROR -- metadata? A49004\n",
      "ERROR -- metadata? A70386\n",
      "ERROR -- metadata? A40724\n",
      "ERROR -- metadata? A07753-001\n",
      "ERROR -- metadata? A01504-001\n",
      "A17310 done! 3662.5890316963196\n",
      "Done!\n"
     ]
    }
   ],
   "source": [
    "for tcp_id in ['A43441', 'A12777', 'A77689', 'A17310']:\n",
    "    find_text_reuse(tcp_id)\n",
    "\n",
    "print('Done!')"
   ]
  },
  {
   "cell_type": "code",
   "execution_count": null,
   "metadata": {},
   "outputs": [],
   "source": []
  }
 ],
 "metadata": {
  "kernelspec": {
   "display_name": "Python 3",
   "language": "python",
   "name": "python3"
  },
  "language_info": {
   "codemirror_mode": {
    "name": "ipython",
    "version": 3
   },
   "file_extension": ".py",
   "mimetype": "text/x-python",
   "name": "python",
   "nbconvert_exporter": "python",
   "pygments_lexer": "ipython3",
   "version": "3.6.5"
  }
 },
 "nbformat": 4,
 "nbformat_minor": 2
}
