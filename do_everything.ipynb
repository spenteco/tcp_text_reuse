{
 "cells": [
  {
   "cell_type": "code",
   "execution_count": null,
   "metadata": {},
   "outputs": [],
   "source": [
    "import time, pickle, glob, os, sys, resource\n",
    "from matching_functions import *\n",
    "\n",
    "EEBO_SHINGLE_FOLDER = '/home/spenteco/0/eebo_shingled/'\n",
    "\n",
    "all_shingles = []\n",
    "shingle_lookup = {}\n",
    "shingle_n = 0\n",
    "\n",
    "f = open('/home/data/all_shingles.tsv', 'w', encoding='utf-8')\n",
    "\n",
    "for n, path_to_eebo_pickle in enumerate(sorted(glob.glob(EEBO_SHINGLE_FOLDER + '*.pickle'))):\n",
    "    \n",
    "    if n % 1000 == 0:\n",
    "        print('processing', n)\n",
    "    \n",
    "    tcp_id = path_to_eebo_pickle.split('/')[-1].split('.')[0]\n",
    "    \n",
    "    eebo_data = load_pickle_file(path_to_eebo_pickle)\n",
    "    \n",
    "    for k, v in eebo_data['shingles'].items():\n",
    "        f.write(str(k) + '\\t' + tcp_id + '\\t' + str(v) + '\\n')\n",
    "\n",
    "f.close()"
   ]
  },
  {
   "cell_type": "code",
   "execution_count": null,
   "metadata": {},
   "outputs": [],
   "source": [
    "!sort -T ~/0 /home/data/all_shingles.tsv > ~/0/SORTED.all_shingles.tsv"
   ]
  },
  {
   "cell_type": "code",
   "execution_count": null,
   "metadata": {},
   "outputs": [],
   "source": [
    "inf = open('/home/spenteco/0/SORTED.all_shingles.tsv')\n",
    "outf = open('/home/spenteco/0/GROUPED.all_shingles.tsv', 'w', encoding='utf-8')\n",
    "\n",
    "key = ''\n",
    "data = []\n",
    "line_n = 0\n",
    "\n",
    "for line in inf:\n",
    "    if line.strip() > '':\n",
    "        \n",
    "        line_n += 1\n",
    "        if line_n % 1000000 == 0:\n",
    "            print(line_n, 'read')\n",
    "        \n",
    "        parts = line.strip().split('\\t')\n",
    "        \n",
    "        if len(parts) == 3:\n",
    "        \n",
    "            k = parts[0]\n",
    "            d = ';'.join(parts[1:])\n",
    "        \n",
    "            if k != key:\n",
    "                if len(data) > 1:\n",
    "                    outf.write(key + '\\t' + '\\t'.join(data) + '\\n')\n",
    "            \n",
    "                data = []\n",
    "                key = k\n",
    "                \n",
    "            data.append(d)\n",
    "            \n",
    "if len(data) > 1:\n",
    "    outf.write(key + '\\t' + '\\t'.join(data) + '\\n')\n",
    "            \n",
    "outf.close()          \n",
    "inf.close()"
   ]
  },
  {
   "cell_type": "code",
   "execution_count": null,
   "metadata": {},
   "outputs": [],
   "source": [
    "!sed -E 's/\\t.+//g' ~/0/SORTED.all_shingles.tsv  | uniq -c | egrep -v '^\\s+1\\s' > ~/0/UNIQ.all_shingles.tsv "
   ]
  },
  {
   "cell_type": "markdown",
   "metadata": {},
   "source": [
    "egrep '[0-9]{5,}' UNIQ.all_shingles.tsv"
   ]
  },
  {
   "cell_type": "code",
   "execution_count": null,
   "metadata": {},
   "outputs": [],
   "source": [
    "x = ['a', 'b', 'c', 'd']\n",
    "\n",
    "test_pairs = []\n",
    "\n",
    "for a in x:\n",
    "    for b in x:\n",
    "        if a != b:\n",
    "            test_pairs.append(tuple(sorted([a, b])))\n",
    "            \n",
    "test_pairs = sorted(list(set(test_pairs)))\n",
    "\n",
    "print(test_pairs)\n",
    "\n",
    "test_pairs = []\n",
    "\n",
    "for a in range(0, len(x) - 1):\n",
    "    for b in range(a + 1, len(x)):\n",
    "        if a != b:\n",
    "            test_pairs.append(tuple(sorted([x[a], x[b]])))\n",
    "            \n",
    "test_pairs = sorted(list(set(test_pairs)))\n",
    "\n",
    "print(test_pairs)"
   ]
  },
  {
   "cell_type": "code",
   "execution_count": null,
   "metadata": {},
   "outputs": [],
   "source": [
    "from collections import defaultdict\n",
    "\n",
    "inf = open('/home/spenteco/0/GROUPED.all_shingles.tsv')\n",
    "#outf = open('/home/spenteco/0/PAIRED.all_shingle_matches.tsv', 'w', encoding='utf-8')\n",
    "\n",
    "line_n = 0\n",
    "\n",
    "tcp_ids_to_n = {}\n",
    "matching_pairs = defaultdict(int)\n",
    "\n",
    "for line in inf:\n",
    "    if line.strip() > '':\n",
    "        \n",
    "        line_n += 1\n",
    "        if line_n % 1000000 == 0:\n",
    "            print(line_n, 'read')\n",
    "        \n",
    "        parts = line.strip().split('\\t')\n",
    "        \n",
    "        tcp_ids_locations = {}\n",
    "        \n",
    "        for p in parts[1:]:\n",
    "            tcp_id = p.split(';')[0]\n",
    "            locations = p.split(';')[1]\n",
    "            \n",
    "            tcp_ids_locations[tcp_id] = locations\n",
    "            \n",
    "        tcp_ids = sorted(tcp_ids_locations.keys())\n",
    "        \n",
    "        for a in range(0, len(tcp_ids) - 1):\n",
    "            for b in range(a + 1, len(tcp_ids)):\n",
    "                \n",
    "                matching_pairs[(tcp_ids[a]), tcp_ids[b]] += 1\n",
    "                \n",
    "                #outf.write(tcp_ids[a] + '\\t' + \\\n",
    "                #           tcp_ids[b] + '\\t' + \\\n",
    "                #           tcp_ids_locations[tcp_ids[a]] + '\\t' + \\\n",
    "                #           tcp_ids_locations[tcp_ids[b]] + '\\n' )\n",
    "              \n",
    "    if line_n > 10:\n",
    "        break\n",
    "    \n",
    "            \n",
    "#outf.close()          \n",
    "inf.close()\n",
    "\n",
    "print(len(matching_pairs))\n",
    "n_gt_1 = 0\n",
    "for k, v in matching_pairs.items():\n",
    "    if v > 1:\n",
    "        n_gt_1 += 1\n",
    "        \n",
    "print(n_gt_1)"
   ]
  },
  {
   "cell_type": "markdown",
   "metadata": {},
   "source": [
    "sudo mkdir /mnt/ramdisk\n",
    "\n",
    "sudo mount -t ramfs -o size=12G ramfs /mnt/ramdisk\n",
    "\n",
    "sudo cp /home/spenteco/0/GROUPED.all_shingles.tsv /mnt/ramdisk\n",
    "\n",
    "sudo umount /mnt/ramdisk\n",
    "\n",
    "free -g"
   ]
  },
  {
   "cell_type": "code",
   "execution_count": 1,
   "metadata": {},
   "outputs": [
    {
     "name": "stdout",
     "output_type": "stream",
     "text": [
      "time: 0.09910273551940918\n",
      "Done!\n"
     ]
    }
   ],
   "source": [
    "import time, glob, subprocess\n",
    "from queue import Queue\n",
    "from threading import Thread\n",
    "\n",
    "NUM_WORKER_THREADS = 1\n",
    "\n",
    "ALL_RESULTS = []\n",
    "\n",
    "# ----------------------------------------------------------\n",
    "\n",
    "def find_worker(worker_number):\n",
    "    \n",
    "    while not q.empty():\n",
    "        \n",
    "        start_time = time.time()\n",
    "        \n",
    "        id_to_find = q.get()\n",
    "        \n",
    "        if os.path.isfile('/home/data/everything_to_everything/' + id_to_find + '.tsv'):\n",
    "            pass\n",
    "        else:\n",
    "        \n",
    "            results = subprocess.getoutput('grep ' + id_to_find + ' /mnt/ramdisk/GROUPED.all_shingles.tsv')\n",
    "            n_found = len(results.strip().split('\\n'))\n",
    "\n",
    "            f = open('/home/data/everything_to_everything/' + id_to_find + '.tsv', 'w', encoding='utf-8')\n",
    "            f.write(results + '\\n')\n",
    "            f.close()        \n",
    "        \n",
    "        q.task_done()\n",
    "\n",
    "        stop_time = time.time()\n",
    "\n",
    "        #ALL_RESULTS.append([id_to_find, n_found, (stop_time - start_time)])\n",
    "    \n",
    "# ----------------------------------------------------------\n",
    "\n",
    "q = Queue()\n",
    "\n",
    "for path_to_file in glob.glob(INPUT_FOLDER + '*.xml')[:100]:\n",
    "    q.put(path_to_file.split('/')[-1].split('.')[0])\n",
    "    \n",
    "total_start_time = time.time()\n",
    "    \n",
    "for a in range(NUM_WORKER_THREADS):\n",
    "    t = Thread(target=find_worker, args=(a,))\n",
    "    t.daemon = True\n",
    "    t.start()\n",
    "\n",
    "q.join()\n",
    "Quantum vertice ad auras Aethereas, tantum radice ad tartara tendit\n",
    "print('time:', (time.time() - total_start_time))\n",
    "\n",
    "print('Done!')"
   ]
  },
  {
   "cell_type": "code",
   "execution_count": 8,
   "metadata": {},
   "outputs": [
    {
     "name": "stdout",
     "output_type": "stream",
     "text": [
      "100\n",
      "[['A01475', 5774, 9.163329839706421], ['A13775', 15048, 9.566068887710571], ['A66249', 115, 9.631157159805298], ['B01304', 1704, 9.686990022659302], ['A12494', 1816, 9.753575563430786], ['B04899', 283, 9.786089897155762], ['A32937', 1784, 9.238839387893677], ['A79690', 92, 9.446941375732422], ['A36460', 3447, 9.334395408630371], ['A55158', 31, 9.291319847106934], ['A40317', 851, 9.552822589874268], ['A79165', 32063, 9.9742591381073], ['A82498', 85, 9.304962635040283], ['B08976', 972, 9.544893503189087], ['A73478', 20616, 9.518252611160278], ['A85110', 133, 9.858133316040039], ['A39403', 209, 9.97384786605835], ['A42033', 366, 10.308471441268921], ['B06538', 119, 8.803656339645386], ['A57159', 2292, 9.176780462265015], ['A48245', 710, 9.543368101119995], ['A87142', 473, 10.041020631790161], ['A49346', 236, 9.706344842910767], ['B43656', 23118, 9.94112515449524], ['A41702', 383, 10.06716799736023], ['A89238', 856, 9.271368265151978], ['A83297', 191, 9.311151266098022], ['A93290', 132, 9.584434747695923], ['A40416', 314, 9.501052141189575], ['A22437', 495, 9.324090242385864], ['A76058', 2134, 9.309494495391846], ['A00688', 1953, 9.371152877807617], ['A60903', 143, 9.346448421478271], ['A48430', 2999, 9.405376434326172], ['A07483', 982, 9.868288040161133], ['A07806', 3705, 9.932453632354736], ['A50000', 6090, 9.596082925796509], ['B18530', 24, 10.123647451400757], ['B09684', 930, 10.139789581298828], ['A16199', 3437, 9.889817237854004], ['A87236', 264, 10.25686264038086], ['A20694', 75, 10.260833024978638], ['A50437', 5660, 9.478083372116089], ['A25604', 141, 10.02457332611084], ['A46116', 126, 10.310839414596558], ['B00672', 195, 9.897773504257202], ['A70902', 2698, 9.774383068084717], ['A27147', 3585, 9.751274108886719], ['A36304', 1118, 10.25744915008545], ['B27395', 158, 10.248944997787476], ['A36085', 4182, 10.193877935409546], ['A22843', 591, 10.082397222518921], ['A45610', 1568, 10.472378492355347], ['A58115', 5613, 10.068482398986816], ['A44892', 5528, 9.495570182800293], ['A07574', 992, 9.557017803192139], ['A56533', 7466, 10.054127216339111], ['A58668', 77, 9.34463119506836], ['A32639', 101, 9.236110210418701], ['A49581', 21096, 9.847517728805542], ['A19548', 4832, 9.310537576675415], ['B20129', 251, 9.376406908035278], ['A10716', 4354, 9.432616710662842], ['A85716', 2252, 9.803104162216187], ['A83540', 240, 8.96967625617981], ['A93421', 508, 10.483027458190918], ['A34975', 59, 9.193292617797852], ['A21772', 267, 9.897734880447388], ['A96393', 753, 10.142722129821777], ['A85394', 14589, 9.8942551612854], ['A83902', 71, 9.942466020584106], ['A70847', 9678, 9.428388118743896], ['A51525', 124, 9.440120935440063], ['A54762', 241, 10.043914318084717], ['A88418', 18225, 9.412589073181152], ['A84456', 642, 9.420365810394287], ['A89073', 397, 9.764662027359009], ['A20966', 2677, 9.722399950027466], ['A94152', 5320, 9.4946928024292], ['A10245', 519, 9.575473070144653], ['A29049', 1986, 9.091816663742065], ['A49004', 302, 9.375736713409424], ['A88895', 546, 9.363103151321411], ['B05113', 225, 9.865513801574707], ['A19707', 987, 9.579094171524048], ['A96075', 11657, 9.474641561508179], ['A94246', 103, 9.802933692932129], ['A32503', 104, 9.843809843063354], ['A88699', 389, 9.503840208053589], ['A50771', 5015, 9.643705129623413], ['A52224', 75, 9.681097269058228], ['A07649', 7438, 9.65639615058899], ['A76883', 1103, 9.664503812789917], ['A43724', 6709, 9.91032338142395], ['B22645', 660, 9.825713872909546], ['A13762', 2929, 10.07558274269104], ['A02799', 2722, 9.16031265258789], ['A61281', 18885, 9.878140211105347], ['A03115', 1325, 8.727551698684692], ['A87569', 440, 8.347917318344116]]\n"
     ]
    }
   ],
   "source": [
    "print(len(ALL_RESULTS))\n",
    "print(ALL_RESULTS)"
   ]
  },
  {
   "cell_type": "code",
   "execution_count": null,
   "metadata": {},
   "outputs": [],
   "source": []
  }
 ],
 "metadata": {
  "kernelspec": {
   "display_name": "Python 3",
   "language": "python",
   "name": "python3"
  },
  "language_info": {
   "codemirror_mode": {
    "name": "ipython",
    "version": 3
   },
   "file_extension": ".py",
   "mimetype": "text/x-python",
   "name": "python",
   "nbconvert_exporter": "python",
   "pygments_lexer": "ipython3",
   "version": "3.6.5"
  }
 },
 "nbformat": 4,
 "nbformat_minor": 2
}
