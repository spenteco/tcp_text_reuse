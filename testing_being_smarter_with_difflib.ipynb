{
 "cells": [
  {
   "cell_type": "markdown",
   "metadata": {},
   "source": [
    "## Why not use SequenceMatcher?\n",
    "\n",
    "It's written to find the longest common subsequence, which makes sense for some uses, but not for ours.\n",
    "\n",
    "We're interested in cases where, for example, someone says, \"a b c d e\", and someone else both repeats it entirely and also repeats subsets of the original; e.g., where someone else says \"a b c d e\", \"a b\", and \"c d e\".\n",
    "\n",
    "This example shows the problem:"
   ]
  },
  {
   "cell_type": "code",
   "execution_count": 45,
   "metadata": {},
   "outputs": [
    {
     "name": "stdout",
     "output_type": "stream",
     "text": [
      "matching sequence: ['a', 'b', 'c', 'd', 'e']\n"
     ]
    }
   ],
   "source": [
    "from difflib import SequenceMatcher\n",
    "\n",
    "a = ['a', 'b', 'c', 'd', 'e']\n",
    "b = ['a', 'b', '*', '*', '*',  'a', 'b', 'c', 'd', 'e', '*', '*', '*', 'c', 'd', 'e', ]\n",
    "\n",
    "s = SequenceMatcher(None, a, b)\n",
    "    \n",
    "for m in s.get_matching_blocks():\n",
    "    if m.size > 0:\n",
    "        print('matching sequence:', a[m.a: m.a + m.size])"
   ]
  },
  {
   "cell_type": "markdown",
   "metadata": {},
   "source": [
    "### SequenceMatcher is not commutative\n",
    "\n",
    "The order of the comparision (sequence 1 compared to sequence 2, versus sequence 2 compared to sequence 1) determines the results."
   ]
  },
  {
   "cell_type": "code",
   "execution_count": 42,
   "metadata": {},
   "outputs": [
    {
     "name": "stdout",
     "output_type": "stream",
     "text": [
      "--------------------------------------------\n",
      "['a', 'b']\n",
      "['a', 'b']\n",
      "\n",
      "['a', 'b', 'c', 'd', 'e']\n",
      "['a', 'b', 'c', 'd', 'e']\n",
      "\n",
      "['c', 'd', 'e']\n",
      "['c', 'd', 'e']\n",
      "\n",
      "--------------------------------------------\n",
      "['a', 'b', 'c', 'd', 'e']\n",
      "['a', 'b', 'c', 'd', 'e']\n",
      "\n"
     ]
    }
   ],
   "source": [
    "import difflib, copy\n",
    "\n",
    "def matches(list1, list2):\n",
    "    \n",
    "    results = []\n",
    "    \n",
    "    while True:\n",
    "        \n",
    "        mbs = difflib.SequenceMatcher(None, list1, list2).get_matching_blocks()\n",
    "        \n",
    "        if len(mbs) == 1: break\n",
    "        \n",
    "        for m in mbs[:-1]:\n",
    "            results.append([[m.a, m.a + m.size - 1], [m.b, m.b + m.size - 1]])\n",
    "            for i in range(m.b, m.b + m.size):\n",
    "                list2[i] = ''\n",
    "            \n",
    "    return results\n",
    "\n",
    "# -----------------------------------------\n",
    "\n",
    "def test_a_sequence(seq_1, seq_2):\n",
    "\n",
    "    results = matches(copy.deepcopy(seq_1), copy.deepcopy(seq_2))\n",
    "\n",
    "    results.sort()\n",
    "    for m in results:\n",
    "        print(seq_1[m[0][0]: m[0][1] + 1])\n",
    "        print(seq_2[m[1][0]: m[1][1] + 1])\n",
    "        print()\n",
    "\n",
    "# -----------------------------------------\n",
    "            \n",
    "            \n",
    "a = ['a', 'b', 'c', 'd', 'e']\n",
    "b = ['a', 'b', '*', '*', '*',  'a', 'b', 'c', 'd', 'e', '*', '*', '*', 'c', 'd', 'e', ]\n",
    "\n",
    "print('--------------------------------------------')\n",
    "test_a_sequence(a, b)\n",
    "\n",
    "print('--------------------------------------------')\n",
    "test_a_sequence(b, a)"
   ]
  },
  {
   "cell_type": "markdown",
   "metadata": {},
   "source": [
    "### Testing another SequenceMatcher\n",
    "\n",
    "Here, I test a different implementation:\n",
    "\n",
    "https://github.com/mduggan/cdifflib\n",
    "\n",
    "to see if it behaves similarly.  It does."
   ]
  },
  {
   "cell_type": "code",
   "execution_count": 44,
   "metadata": {},
   "outputs": [
    {
     "name": "stdout",
     "output_type": "stream",
     "text": [
      "--------------------------------------------\n",
      "['a', 'b']\n",
      "['a', 'b']\n",
      "\n",
      "['a', 'b', 'c', 'd', 'e']\n",
      "['a', 'b', 'c', 'd', 'e']\n",
      "\n",
      "['c', 'd', 'e']\n",
      "['c', 'd', 'e']\n",
      "\n",
      "--------------------------------------------\n",
      "['a', 'b', 'c', 'd', 'e']\n",
      "['a', 'b', 'c', 'd', 'e']\n",
      "\n"
     ]
    }
   ],
   "source": [
    "import cdifflib\n",
    "\n",
    "def matches(list1, list2):\n",
    "    \n",
    "    results = []\n",
    "    \n",
    "    while True:\n",
    "        \n",
    "        nm = 0\n",
    "        for m in cdifflib.CSequenceMatcher(None, list1, list2).get_matching_blocks():\n",
    "            \n",
    "            if m.size == 0:\n",
    "                break\n",
    "        \n",
    "            nm += 1\n",
    "        \n",
    "            results.append([[m.a, m.a + m.size - 1], [m.b, m.b + m.size - 1]])\n",
    "            for i in range(m.b, m.b + m.size):\n",
    "                list2[i] = ''\n",
    "                \n",
    "        if nm == 0:\n",
    "            break\n",
    "            \n",
    "    return results\n",
    "\n",
    "# -----------------------------------------\n",
    "\n",
    "def test_a_sequence(seq_1, seq_2):\n",
    "\n",
    "    results = matches(copy.deepcopy(seq_1), copy.deepcopy(seq_2))\n",
    "\n",
    "    results.sort()\n",
    "    for m in results:\n",
    "        print(seq_1[m[0][0]: m[0][1] + 1])\n",
    "        print(seq_2[m[1][0]: m[1][1] + 1])\n",
    "        print()\n",
    "\n",
    "# -----------------------------------------\n",
    "            \n",
    "            \n",
    "a = ['a', 'b', 'c', 'd', 'e']\n",
    "b = ['a', 'b', '*', '*', '*',  'a', 'b', 'c', 'd', 'e', '*', '*', '*', 'c', 'd', 'e', ]\n",
    "\n",
    "print('--------------------------------------------')\n",
    "test_a_sequence(a, b)\n",
    "\n",
    "print('--------------------------------------------')\n",
    "test_a_sequence(b, a)"
   ]
  },
  {
   "cell_type": "code",
   "execution_count": null,
   "metadata": {},
   "outputs": [],
   "source": []
  }
 ],
 "metadata": {
  "kernelspec": {
   "display_name": "Python 3",
   "language": "python",
   "name": "python3"
  },
  "language_info": {
   "codemirror_mode": {
    "name": "ipython",
    "version": 3
   },
   "file_extension": ".py",
   "mimetype": "text/x-python",
   "name": "python",
   "nbconvert_exporter": "python",
   "pygments_lexer": "ipython3",
   "version": "3.6.5"
  }
 },
 "nbformat": 4,
 "nbformat_minor": 2
}
